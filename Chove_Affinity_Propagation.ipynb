{
  "nbformat": 4,
  "nbformat_minor": 0,
  "metadata": {
    "colab": {
      "name": "Chove_Affinity_Propagation",
      "provenance": [],
      "include_colab_link": true
    },
    "kernelspec": {
      "name": "python3",
      "display_name": "Python 3"
    },
    "language_info": {
      "name": "python"
    }
  },
  "cells": [
    {
      "cell_type": "markdown",
      "metadata": {
        "id": "view-in-github",
        "colab_type": "text"
      },
      "source": [
        "<a href=\"https://colab.research.google.com/github/pampamlopes/ai_unsupervised/blob/main/Chove_Affinity_Propagation.ipynb\" target=\"_parent\"><img src=\"https://colab.research.google.com/assets/colab-badge.svg\" alt=\"Open In Colab\"/></a>"
      ]
    },
    {
      "cell_type": "markdown",
      "metadata": {
        "id": "Cr8FIN1qzEma"
      },
      "source": [
        "# **Infornações gerais sobre o algoritmo:**\n",
        "\n",
        "Indicada para utilização em dataset de pequeno e médio porte, devido a sua complexidade e tempo de execução.\n",
        "\n",
        "Sua primeira publicação foi em 2007.\n",
        "\n",
        "\n",
        "Não precisamos informar no numero de clusters, pois o algoritmo faz um distribuição conforme as afinidades encontradas.\n",
        "\n",
        "O algoritmo escolhe o mumero de cluster baseado nos dados fornecidos e recebe dois parâmetros: preference e damping.\n",
        "\n",
        "\n",
        "Preference: Indica a quantidade de exemplares utilizados.\n",
        "\n",
        "Damping: controla a quantidade de troca de mensagens.\n",
        "\n",
        "\n",
        "\n",
        "\n"
      ]
    },
    {
      "cell_type": "markdown",
      "metadata": {
        "id": "w1UKm9M93GAv"
      },
      "source": [
        "# **Informações gerais sobre o dataset escolhido:**\n",
        "\n",
        "Link de acesso aos dados: https://www.kaggle.com/jsphyg/weather-dataset-rattle-package\n",
        "\n",
        "O dataset possui dados historicos de 10 anos de observações meteologicas de locais situados na Austrália.\n",
        "\n",
        "O objetivo da análise é identificar se poderá chover no dia seguinte. \n",
        "\n",
        "\n"
      ]
    },
    {
      "cell_type": "markdown",
      "metadata": {
        "id": "WH3KS5wI3LGc"
      },
      "source": [
        "# **Implementando um Affinity Propagation**"
      ]
    },
    {
      "cell_type": "code",
      "metadata": {
        "id": "eFqiqS-OzDu8"
      },
      "source": [
        "import pandas as pd\n",
        "from sklearn.cluster import AffinityPropagation\n",
        "from matplotlib import pyplot as plt\n",
        "from sklearn import metrics"
      ],
      "execution_count": null,
      "outputs": []
    },
    {
      "cell_type": "code",
      "metadata": {
        "colab": {
          "base_uri": "https://localhost:8080/",
          "height": 301
        },
        "id": "VBrArChdyH2C",
        "outputId": "f436b6e3-1583-47fa-a7aa-8a162d3cd107"
      },
      "source": [
        "df = pd.read_csv('weatherAUS.csv')\n",
        "df.head()"
      ],
      "execution_count": null,
      "outputs": [
        {
          "output_type": "execute_result",
          "data": {
            "text/html": [
              "<div>\n",
              "<style scoped>\n",
              "    .dataframe tbody tr th:only-of-type {\n",
              "        vertical-align: middle;\n",
              "    }\n",
              "\n",
              "    .dataframe tbody tr th {\n",
              "        vertical-align: top;\n",
              "    }\n",
              "\n",
              "    .dataframe thead th {\n",
              "        text-align: right;\n",
              "    }\n",
              "</style>\n",
              "<table border=\"1\" class=\"dataframe\">\n",
              "  <thead>\n",
              "    <tr style=\"text-align: right;\">\n",
              "      <th></th>\n",
              "      <th>Date</th>\n",
              "      <th>Location</th>\n",
              "      <th>MinTemp</th>\n",
              "      <th>MaxTemp</th>\n",
              "      <th>Rainfall</th>\n",
              "      <th>Evaporation</th>\n",
              "      <th>Sunshine</th>\n",
              "      <th>WindGustDir</th>\n",
              "      <th>WindGustSpeed</th>\n",
              "      <th>WindDir9am</th>\n",
              "      <th>WindDir3pm</th>\n",
              "      <th>WindSpeed9am</th>\n",
              "      <th>WindSpeed3pm</th>\n",
              "      <th>Humidity9am</th>\n",
              "      <th>Humidity3pm</th>\n",
              "      <th>Pressure9am</th>\n",
              "      <th>Pressure3pm</th>\n",
              "      <th>Cloud9am</th>\n",
              "      <th>Cloud3pm</th>\n",
              "      <th>Temp9am</th>\n",
              "      <th>Temp3pm</th>\n",
              "      <th>RainToday</th>\n",
              "      <th>RainTomorrow</th>\n",
              "    </tr>\n",
              "  </thead>\n",
              "  <tbody>\n",
              "    <tr>\n",
              "      <th>0</th>\n",
              "      <td>2008-12-01</td>\n",
              "      <td>Albury</td>\n",
              "      <td>13.4</td>\n",
              "      <td>22.9</td>\n",
              "      <td>0.6</td>\n",
              "      <td>NaN</td>\n",
              "      <td>NaN</td>\n",
              "      <td>W</td>\n",
              "      <td>44.0</td>\n",
              "      <td>W</td>\n",
              "      <td>WNW</td>\n",
              "      <td>20.0</td>\n",
              "      <td>24.0</td>\n",
              "      <td>71.0</td>\n",
              "      <td>22.0</td>\n",
              "      <td>1007.7</td>\n",
              "      <td>1007.1</td>\n",
              "      <td>8.0</td>\n",
              "      <td>NaN</td>\n",
              "      <td>16.9</td>\n",
              "      <td>21.8</td>\n",
              "      <td>0.0</td>\n",
              "      <td>0.0</td>\n",
              "    </tr>\n",
              "    <tr>\n",
              "      <th>1</th>\n",
              "      <td>2008-12-02</td>\n",
              "      <td>Albury</td>\n",
              "      <td>7.4</td>\n",
              "      <td>25.1</td>\n",
              "      <td>0.0</td>\n",
              "      <td>NaN</td>\n",
              "      <td>NaN</td>\n",
              "      <td>WNW</td>\n",
              "      <td>44.0</td>\n",
              "      <td>NNW</td>\n",
              "      <td>WSW</td>\n",
              "      <td>4.0</td>\n",
              "      <td>22.0</td>\n",
              "      <td>44.0</td>\n",
              "      <td>25.0</td>\n",
              "      <td>1010.6</td>\n",
              "      <td>1007.8</td>\n",
              "      <td>NaN</td>\n",
              "      <td>NaN</td>\n",
              "      <td>17.2</td>\n",
              "      <td>24.3</td>\n",
              "      <td>0.0</td>\n",
              "      <td>0.0</td>\n",
              "    </tr>\n",
              "    <tr>\n",
              "      <th>2</th>\n",
              "      <td>2008-12-03</td>\n",
              "      <td>Albury</td>\n",
              "      <td>12.9</td>\n",
              "      <td>25.7</td>\n",
              "      <td>0.0</td>\n",
              "      <td>NaN</td>\n",
              "      <td>NaN</td>\n",
              "      <td>WSW</td>\n",
              "      <td>46.0</td>\n",
              "      <td>W</td>\n",
              "      <td>WSW</td>\n",
              "      <td>19.0</td>\n",
              "      <td>26.0</td>\n",
              "      <td>38.0</td>\n",
              "      <td>30.0</td>\n",
              "      <td>1007.6</td>\n",
              "      <td>1008.7</td>\n",
              "      <td>NaN</td>\n",
              "      <td>2.0</td>\n",
              "      <td>21.0</td>\n",
              "      <td>23.2</td>\n",
              "      <td>0.0</td>\n",
              "      <td>0.0</td>\n",
              "    </tr>\n",
              "    <tr>\n",
              "      <th>3</th>\n",
              "      <td>2008-12-04</td>\n",
              "      <td>Albury</td>\n",
              "      <td>9.2</td>\n",
              "      <td>28.0</td>\n",
              "      <td>0.0</td>\n",
              "      <td>NaN</td>\n",
              "      <td>NaN</td>\n",
              "      <td>NE</td>\n",
              "      <td>24.0</td>\n",
              "      <td>SE</td>\n",
              "      <td>E</td>\n",
              "      <td>11.0</td>\n",
              "      <td>9.0</td>\n",
              "      <td>45.0</td>\n",
              "      <td>16.0</td>\n",
              "      <td>1017.6</td>\n",
              "      <td>1012.8</td>\n",
              "      <td>NaN</td>\n",
              "      <td>NaN</td>\n",
              "      <td>18.1</td>\n",
              "      <td>26.5</td>\n",
              "      <td>0.0</td>\n",
              "      <td>0.0</td>\n",
              "    </tr>\n",
              "    <tr>\n",
              "      <th>4</th>\n",
              "      <td>2008-12-05</td>\n",
              "      <td>Albury</td>\n",
              "      <td>17.5</td>\n",
              "      <td>32.3</td>\n",
              "      <td>1.0</td>\n",
              "      <td>NaN</td>\n",
              "      <td>NaN</td>\n",
              "      <td>W</td>\n",
              "      <td>41.0</td>\n",
              "      <td>ENE</td>\n",
              "      <td>NW</td>\n",
              "      <td>7.0</td>\n",
              "      <td>20.0</td>\n",
              "      <td>82.0</td>\n",
              "      <td>33.0</td>\n",
              "      <td>1010.8</td>\n",
              "      <td>1006.0</td>\n",
              "      <td>7.0</td>\n",
              "      <td>8.0</td>\n",
              "      <td>17.8</td>\n",
              "      <td>29.7</td>\n",
              "      <td>0.0</td>\n",
              "      <td>0.0</td>\n",
              "    </tr>\n",
              "  </tbody>\n",
              "</table>\n",
              "</div>"
            ],
            "text/plain": [
              "         Date Location  MinTemp  ...  Temp3pm  RainToday  RainTomorrow\n",
              "0  2008-12-01   Albury     13.4  ...     21.8        0.0           0.0\n",
              "1  2008-12-02   Albury      7.4  ...     24.3        0.0           0.0\n",
              "2  2008-12-03   Albury     12.9  ...     23.2        0.0           0.0\n",
              "3  2008-12-04   Albury      9.2  ...     26.5        0.0           0.0\n",
              "4  2008-12-05   Albury     17.5  ...     29.7        0.0           0.0\n",
              "\n",
              "[5 rows x 23 columns]"
            ]
          },
          "metadata": {
            "tags": []
          },
          "execution_count": 161
        }
      ]
    },
    {
      "cell_type": "code",
      "metadata": {
        "id": "GaM8UVrTErMf"
      },
      "source": [
        "df.drop(['Date', 'Location', 'WindGustDir', 'WindDir9am','WindDir3pm'], axis = 1, inplace = True)"
      ],
      "execution_count": null,
      "outputs": []
    },
    {
      "cell_type": "code",
      "metadata": {
        "colab": {
          "base_uri": "https://localhost:8080/"
        },
        "id": "2iv-gBAo0HPg",
        "outputId": "70a24fce-b509-4c17-dd80-d8a5135414d6"
      },
      "source": [
        "df.info()"
      ],
      "execution_count": null,
      "outputs": [
        {
          "output_type": "stream",
          "text": [
            "<class 'pandas.core.frame.DataFrame'>\n",
            "RangeIndex: 145460 entries, 0 to 145459\n",
            "Data columns (total 18 columns):\n",
            " #   Column         Non-Null Count   Dtype  \n",
            "---  ------         --------------   -----  \n",
            " 0   MinTemp        143975 non-null  float64\n",
            " 1   MaxTemp        144199 non-null  float64\n",
            " 2   Rainfall       142199 non-null  float64\n",
            " 3   Evaporation    82670 non-null   float64\n",
            " 4   Sunshine       75625 non-null   float64\n",
            " 5   WindGustSpeed  135197 non-null  float64\n",
            " 6   WindSpeed9am   143693 non-null  float64\n",
            " 7   WindSpeed3pm   142398 non-null  float64\n",
            " 8   Humidity9am    142806 non-null  float64\n",
            " 9   Humidity3pm    140953 non-null  float64\n",
            " 10  Pressure9am    130395 non-null  float64\n",
            " 11  Pressure3pm    130432 non-null  float64\n",
            " 12  Cloud9am       89572 non-null   float64\n",
            " 13  Cloud3pm       86102 non-null   float64\n",
            " 14  Temp9am        143693 non-null  float64\n",
            " 15  Temp3pm        141851 non-null  float64\n",
            " 16  RainToday      142199 non-null  float64\n",
            " 17  RainTomorrow   142193 non-null  float64\n",
            "dtypes: float64(18)\n",
            "memory usage: 20.0 MB\n"
          ],
          "name": "stdout"
        }
      ]
    },
    {
      "cell_type": "code",
      "metadata": {
        "id": "2F0-d7zF68Kb"
      },
      "source": [
        "df.dropna(subset=[\n",
        "                  'MinTemp','MaxTemp','Rainfall','Evaporation','Sunshine','WindGustSpeed','WindSpeed9am',\n",
        "                  'WindSpeed3pm','Humidity9am','Humidity3pm','Pressure9am','Pressure3pm','Cloud9am','Cloud3pm','Temp9am','Temp3pm','RainToday','RainTomorrow'], inplace=True)"
      ],
      "execution_count": null,
      "outputs": []
    },
    {
      "cell_type": "code",
      "metadata": {
        "colab": {
          "base_uri": "https://localhost:8080/"
        },
        "id": "-BknouK-HXOw",
        "outputId": "140b3436-28c7-451b-e56e-af027bf301c6"
      },
      "source": [
        "df.info()"
      ],
      "execution_count": null,
      "outputs": [
        {
          "output_type": "stream",
          "text": [
            "<class 'pandas.core.frame.DataFrame'>\n",
            "Int64Index: 58090 entries, 6049 to 142302\n",
            "Data columns (total 18 columns):\n",
            " #   Column         Non-Null Count  Dtype  \n",
            "---  ------         --------------  -----  \n",
            " 0   MinTemp        58090 non-null  float64\n",
            " 1   MaxTemp        58090 non-null  float64\n",
            " 2   Rainfall       58090 non-null  float64\n",
            " 3   Evaporation    58090 non-null  float64\n",
            " 4   Sunshine       58090 non-null  float64\n",
            " 5   WindGustSpeed  58090 non-null  float64\n",
            " 6   WindSpeed9am   58090 non-null  float64\n",
            " 7   WindSpeed3pm   58090 non-null  float64\n",
            " 8   Humidity9am    58090 non-null  float64\n",
            " 9   Humidity3pm    58090 non-null  float64\n",
            " 10  Pressure9am    58090 non-null  float64\n",
            " 11  Pressure3pm    58090 non-null  float64\n",
            " 12  Cloud9am       58090 non-null  float64\n",
            " 13  Cloud3pm       58090 non-null  float64\n",
            " 14  Temp9am        58090 non-null  float64\n",
            " 15  Temp3pm        58090 non-null  float64\n",
            " 16  RainToday      58090 non-null  float64\n",
            " 17  RainTomorrow   58090 non-null  float64\n",
            "dtypes: float64(18)\n",
            "memory usage: 8.4 MB\n"
          ],
          "name": "stdout"
        }
      ]
    },
    {
      "cell_type": "code",
      "metadata": {
        "colab": {
          "base_uri": "https://localhost:8080/"
        },
        "id": "VGc_sv4Yy8Ee",
        "outputId": "00dde5fe-4b0d-4129-92ba-234af56f108a"
      },
      "source": [
        "labels_true = df.iloc[:5000,-1].values\n",
        "labels_true"
      ],
      "execution_count": null,
      "outputs": [
        {
          "output_type": "execute_result",
          "data": {
            "text/plain": [
              "array([0., 0., 0., ..., 0., 0., 0.])"
            ]
          },
          "metadata": {
            "tags": []
          },
          "execution_count": 173
        }
      ]
    },
    {
      "cell_type": "code",
      "metadata": {
        "colab": {
          "base_uri": "https://localhost:8080/"
        },
        "id": "V9L36oX3n_sj",
        "outputId": "78433183-7426-4385-dfbe-e7c012fbe837"
      },
      "source": [
        "#X = df.iloc[:2000, [2,3,4,14,17,18,19,20]]\n",
        "X = df.iloc[:5000,:-1].values\n",
        "X.shape\n"
      ],
      "execution_count": null,
      "outputs": [
        {
          "output_type": "execute_result",
          "data": {
            "text/plain": [
              "(5000, 17)"
            ]
          },
          "metadata": {
            "tags": []
          },
          "execution_count": 167
        }
      ]
    },
    {
      "cell_type": "code",
      "metadata": {
        "colab": {
          "base_uri": "https://localhost:8080/"
        },
        "id": "gMGSRqP9bXOf",
        "outputId": "56acb8fe-4fc9-4755-9740-b5ce93a6c1ba"
      },
      "source": [
        "from sklearn.preprocessing import StandardScaler\n",
        "\n",
        "scaler = StandardScaler()\n",
        "X_enc = scaler.fit_transform(X)\n",
        "X_enc"
      ],
      "execution_count": null,
      "outputs": [
        {
          "output_type": "execute_result",
          "data": {
            "text/plain": [
              "array([[ 0.62490589,  1.75806727, -0.31509015, ...,  1.46793555,\n",
              "         1.73669755, -0.52489066],\n",
              "       [ 0.70979775,  0.69402753, -0.31509015, ...,  0.20177391,\n",
              "         0.62450599, -0.52489066],\n",
              "       [ 0.87958145,  2.16341575, -0.31509015, ...,  1.88998943,\n",
              "         1.99736745, -0.52489066],\n",
              "       ...,\n",
              "       [ 1.15123537,  0.15356289, -0.10147876, ...,  0.72431681,\n",
              "        -0.03585775,  1.90515869],\n",
              "       [ 1.20217048,  0.20423145, -0.31509015, ...,  0.62382779,\n",
              "         0.12054419, -0.52489066],\n",
              "       [ 0.74375449,  0.08600481, -0.31509015, ...,  0.86500144,\n",
              "         0.06841021, -0.52489066]])"
            ]
          },
          "metadata": {
            "tags": []
          },
          "execution_count": 168
        }
      ]
    },
    {
      "cell_type": "code",
      "metadata": {
        "id": "Nrmy_X1Bw1mD"
      },
      "source": [
        "af = AffinityPropagation()\n",
        "clustering = af.fit(X_enc)"
      ],
      "execution_count": null,
      "outputs": []
    },
    {
      "cell_type": "code",
      "metadata": {
        "id": "7ykB21ISxMMq",
        "colab": {
          "base_uri": "https://localhost:8080/"
        },
        "outputId": "6ddf14a6-2923-4483-e7ae-51fb41281763"
      },
      "source": [
        "cluster_centers_indices = af.cluster_centers_indices_\n",
        "labels = af.labels_\n",
        "n_clusters_ = len(cluster_centers_indices)\n",
        "n_clusters_"
      ],
      "execution_count": null,
      "outputs": [
        {
          "output_type": "execute_result",
          "data": {
            "text/plain": [
              "193"
            ]
          },
          "metadata": {
            "tags": []
          },
          "execution_count": 177
        }
      ]
    },
    {
      "cell_type": "code",
      "metadata": {
        "colab": {
          "base_uri": "https://localhost:8080/"
        },
        "id": "OX5zmJKY3aQK",
        "outputId": "23d57017-82a6-4709-91f1-5427d149ec39"
      },
      "source": [
        "n_clusters_"
      ],
      "execution_count": null,
      "outputs": [
        {
          "output_type": "execute_result",
          "data": {
            "text/plain": [
              "122"
            ]
          },
          "metadata": {
            "tags": []
          },
          "execution_count": 171
        }
      ]
    },
    {
      "cell_type": "code",
      "metadata": {
        "colab": {
          "base_uri": "https://localhost:8080/"
        },
        "id": "Iizq1NYnyjGc",
        "outputId": "fca1ef0d-6e29-4aed-9f8d-ca346e7c2d63"
      },
      "source": [
        "print('Estimated number of clusters: %d' % n_clusters_)\n",
        "print(\"Homogeneity: %0.3f\" % metrics.homogeneity_score(labels_true, labels))\n",
        "print(\"Completeness: %0.3f\" % metrics.completeness_score(labels_true, labels))\n",
        "print(\"V-measure: %0.3f\" % metrics.v_measure_score(labels_true, labels))\n",
        "print(\"Adjusted Rand Index: %0.3f\" % metrics.adjusted_rand_score(labels_true, labels))\n",
        "print(\"Adjusted Mutual Information: %0.3f\"% metrics.adjusted_mutual_info_score(labels_true, labels))"
      ],
      "execution_count": null,
      "outputs": [
        {
          "output_type": "stream",
          "text": [
            "Estimated number of clusters: 193\n",
            "Homogeneity: 0.349\n",
            "Completeness: 0.036\n",
            "V-measure: 0.064\n",
            "Adjusted Rand Index: 0.003\n",
            "Adjusted Mutual Information: 0.058\n"
          ],
          "name": "stdout"
        }
      ]
    },
    {
      "cell_type": "code",
      "metadata": {
        "colab": {
          "base_uri": "https://localhost:8080/",
          "height": 281
        },
        "id": "48JyIo_sxDgv",
        "outputId": "794cc49b-2fae-463d-a0b8-8d8e5fd118b0"
      },
      "source": [
        "import matplotlib.pyplot as plt\n",
        "from itertools import cycle\n",
        "\n",
        "plt.close('all')\n",
        "plt.figure(1)\n",
        "plt.clf()\n",
        "\n",
        "colors = cycle('bgrcmykbgrcmykbgrcmykbgrcmyk')\n",
        "for k, col in zip(range(n_clusters_), colors):\n",
        "    class_members = labels == k\n",
        "    cluster_center = X[cluster_centers_indices[k]]\n",
        "    plt.plot(X[class_members, 0], X[class_members, 1], col + '.')\n",
        "    plt.plot(cluster_center[0], cluster_center[1], 'o', markerfacecolor=col,\n",
        "             markeredgecolor='k', markersize=14)\n",
        "    for x in X[class_members]:\n",
        "        plt.plot([cluster_center[0], x[0]], [cluster_center[1], x[1]], col)\n",
        "\n",
        "plt.title('Estimated number of clusters: %d' % n_clusters_)\n",
        "plt.show()"
      ],
      "execution_count": null,
      "outputs": [
        {
          "output_type": "display_data",
          "data": {
            "image/png": "[encoded data removed]",
            "text/plain": [
              "<Figure size 432x288 with 1 Axes>"
            ]
          },
          "metadata": {
            "tags": [],
            "needs_background": "light"
          }
        }
      ]
    }
  ]
}